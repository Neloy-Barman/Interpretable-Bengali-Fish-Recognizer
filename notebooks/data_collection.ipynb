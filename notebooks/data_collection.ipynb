{
  "nbformat": 4,
  "nbformat_minor": 0,
  "metadata": {
    "colab": {
      "provenance": [],
      "gpuType": "T4"
    },
    "kernelspec": {
      "name": "python3",
      "display_name": "Python 3"
    },
    "language_info": {
      "name": "python"
    },
    "accelerator": "GPU"
  },
  "cells": [
    {
      "cell_type": "markdown",
      "source": [
        "## **Installing necessary packages**"
      ],
      "metadata": {
        "id": "UjHv5rxqTEuH"
      }
    },
    {
      "cell_type": "code",
      "source": [
        "!pip install -Uqq fastai fastbook nbdev"
      ],
      "metadata": {
        "id": "yLhonjt0z70V",
        "colab": {
          "base_uri": "https://localhost:8080/"
        },
        "outputId": "d886671c-e119-405f-cdfb-e45e0e702d9a"
      },
      "execution_count": null,
      "outputs": [
        {
          "output_type": "stream",
          "name": "stdout",
          "text": [
            "\u001b[2K     \u001b[90m━━━━━━━━━━━━━━━━━━━━━━━━━━━━━━━━━━━━━━━━\u001b[0m \u001b[32m719.8/719.8 kB\u001b[0m \u001b[31m7.8 MB/s\u001b[0m eta \u001b[36m0:00:00\u001b[0m\n",
            "\u001b[2K     \u001b[90m━━━━━━━━━━━━━━━━━━━━━━━━━━━━━━━━━━━━━━━━\u001b[0m \u001b[32m66.1/66.1 kB\u001b[0m \u001b[31m5.3 MB/s\u001b[0m eta \u001b[36m0:00:00\u001b[0m\n",
            "\u001b[2K     \u001b[90m━━━━━━━━━━━━━━━━━━━━━━━━━━━━━━━━━━━━━━━━\u001b[0m \u001b[32m521.2/521.2 kB\u001b[0m \u001b[31m15.4 MB/s\u001b[0m eta \u001b[36m0:00:00\u001b[0m\n",
            "\u001b[2K     \u001b[90m━━━━━━━━━━━━━━━━━━━━━━━━━━━━━━━━━━━━━━━━\u001b[0m \u001b[32m1.3/1.3 MB\u001b[0m \u001b[31m21.1 MB/s\u001b[0m eta \u001b[36m0:00:00\u001b[0m\n",
            "\u001b[2K     \u001b[90m━━━━━━━━━━━━━━━━━━━━━━━━━━━━━━━━━━━━━━━━\u001b[0m \u001b[32m58.7/58.7 kB\u001b[0m \u001b[31m8.8 MB/s\u001b[0m eta \u001b[36m0:00:00\u001b[0m\n",
            "\u001b[2K     \u001b[90m━━━━━━━━━━━━━━━━━━━━━━━━━━━━━━━━━━━━━━━━\u001b[0m \u001b[32m82.1/82.1 kB\u001b[0m \u001b[31m11.1 MB/s\u001b[0m eta \u001b[36m0:00:00\u001b[0m\n",
            "\u001b[2K     \u001b[90m━━━━━━━━━━━━━━━━━━━━━━━━━━━━━━━━━━━━━━━━\u001b[0m \u001b[32m115.3/115.3 kB\u001b[0m \u001b[31m19.4 MB/s\u001b[0m eta \u001b[36m0:00:00\u001b[0m\n",
            "\u001b[2K     \u001b[90m━━━━━━━━━━━━━━━━━━━━━━━━━━━━━━━━━━━━━━━━\u001b[0m \u001b[32m134.8/134.8 kB\u001b[0m \u001b[31m24.4 MB/s\u001b[0m eta \u001b[36m0:00:00\u001b[0m\n",
            "\u001b[2K     \u001b[90m━━━━━━━━━━━━━━━━━━━━━━━━━━━━━━━━━━━━━━━━\u001b[0m \u001b[32m1.6/1.6 MB\u001b[0m \u001b[31m38.3 MB/s\u001b[0m eta \u001b[36m0:00:00\u001b[0m\n",
            "\u001b[?25h"
          ]
        }
      ]
    },
    {
      "cell_type": "markdown",
      "source": [
        "## **Using required imports and magic functions**"
      ],
      "metadata": {
        "id": "Jey6KWsSTJY_"
      }
    },
    {
      "cell_type": "code",
      "source": [
        "import warnings\n",
        "from fastai import *\n",
        "import seaborn as sns\n",
        "from fastbook import *\n",
        "from fastai.vision.all import *\n",
        "import matplotlib.pyplot as plt\n",
        "sns.set_theme(style='darkgrid')\n",
        "warnings.filterwarnings('ignore')\n",
        "\n",
        "%reload_ext autoreload\n",
        "%autoreload 2\n",
        "%matplotlib inline"
      ],
      "metadata": {
        "id": "NOTGS9cA0Ciz"
      },
      "execution_count": null,
      "outputs": []
    },
    {
      "cell_type": "markdown",
      "source": [
        "## **Maping bengali names to the scientific names**"
      ],
      "metadata": {
        "id": "LyDohh3zTQz3"
      }
    },
    {
      "cell_type": "code",
      "execution_count": null,
      "metadata": {
        "id": "4Z0lH4KXwLc-"
      },
      "outputs": [],
      "source": [
        "bengali_fishes = {\n",
        "    \"Ayre\": \"Sperata aor\",\n",
        "    \"Catla\": \"Catla catla\",\n",
        "    \"Chital\":\"Chitala chitala\",\n",
        "    \"Ilish\": \"Tenualosa ilisha\",\n",
        "    \"Koi\": \"Cyprinus rubrofuscus\",\n",
        "    \"Kachki\": \"Corica soborna Hamilo\",\n",
        "    \"Kajoli\": \"Ailia coila\",\n",
        "    \"Magur\": \"Clarias batrachus\",\n",
        "    \"Mrigal\": \"Cirrhinus cirrhosus\",\n",
        "    \"Mola Dhela\": \"Osteobrama cotio\",\n",
        "    \"Pabda\": \"Ompok bimaculatus\",\n",
        "    \"Pangash\": \"Pangasius pangasius\",\n",
        "    \"Poa\": \"Otolithoides pama\",\n",
        "    \"Puti\": \"Puntius sophore\",\n",
        "    \"Rui\": \"Labeo rohita\",\n",
        "    \"Shing\": \"Heteropneustes fossilis\",\n",
        "    \"Silver Carp\": \"Hypophthalmichthys molitrix\",\n",
        "    \"Taki\": \"Channa striata\",\n",
        "    \"Tengra\": \"Mystus tengara\",\n",
        "    \"Telapia\": \"Oreochromis niloticus\",\n",
        "}"
      ]
    },
    {
      "cell_type": "markdown",
      "source": [
        "## **Mounting Drive**"
      ],
      "metadata": {
        "id": "7hdwfe8VTXq3"
      }
    },
    {
      "cell_type": "code",
      "source": [
        "from google.colab import drive\n",
        "drive.mount('/content/drive')"
      ],
      "metadata": {
        "colab": {
          "base_uri": "https://localhost:8080/"
        },
        "id": "4FtvQJQl0qnW",
        "outputId": "62102b22-5094-47f8-a4c4-b544cefef58c"
      },
      "execution_count": null,
      "outputs": [
        {
          "output_type": "stream",
          "name": "stdout",
          "text": [
            "Mounted at /content/drive\n"
          ]
        }
      ]
    },
    {
      "cell_type": "markdown",
      "source": [
        "## **Intializing project folder path**"
      ],
      "metadata": {
        "id": "wC4zumaMTcBu"
      }
    },
    {
      "cell_type": "code",
      "source": [
        "%cd /content/drive/MyDrive/Bengali Fish Recognizer"
      ],
      "metadata": {
        "colab": {
          "base_uri": "https://localhost:8080/"
        },
        "id": "svGYsJv40slM",
        "outputId": "c1914cf1-78ab-4445-84eb-3d942c883c8e"
      },
      "execution_count": null,
      "outputs": [
        {
          "output_type": "stream",
          "name": "stdout",
          "text": [
            "/content/drive/MyDrive/Bengali Fish Recognizer\n"
          ]
        }
      ]
    },
    {
      "cell_type": "markdown",
      "source": [
        "## **Function to initialize or create a required directory**"
      ],
      "metadata": {
        "id": "TS4IjkNTTjJe"
      }
    },
    {
      "cell_type": "code",
      "source": [
        "def folder_initialize(folder_path_name):\n",
        "  if not os.path.exists(folder_path_name):\n",
        "    os.mkdir(folder_path_name)"
      ],
      "metadata": {
        "id": "EN-FxLqRzyTt"
      },
      "execution_count": null,
      "outputs": []
    },
    {
      "cell_type": "markdown",
      "source": [
        "## **Creation of `Data` path**"
      ],
      "metadata": {
        "id": "l98qkaJFTr0G"
      }
    },
    {
      "cell_type": "code",
      "source": [
        "data_path = \"Data\"\n",
        "folder_initialize(data_path)"
      ],
      "metadata": {
        "id": "tAQEMOgW2bCr"
      },
      "execution_count": null,
      "outputs": []
    },
    {
      "cell_type": "markdown",
      "source": [
        "## **Collection of Image Data**"
      ],
      "metadata": {
        "id": "pkErpsUBTxNX"
      }
    },
    {
      "cell_type": "code",
      "source": [
        "for key in bengali_fishes.keys():\n",
        "  dest = f'{data_path}/{key}'\n",
        "  folder_initialize(dest)\n",
        "  try:\n",
        "    image_urls = search_images_ddg(f\"{bengali_fishes[key]}\")\n",
        "    download_images(dest, urls=image_urls)\n",
        "  except:\n",
        "    continue"
      ],
      "metadata": {
        "id": "Genp0eTV0LMU"
      },
      "execution_count": null,
      "outputs": []
    },
    {
      "cell_type": "markdown",
      "source": [
        "## **Grabbing image files**"
      ],
      "metadata": {
        "id": "Kqk0zx7hT9TN"
      }
    },
    {
      "cell_type": "code",
      "source": [
        "image_files = get_image_files(data_path)\n",
        "print(f\"Total Number of Images: {len(image_files)}\")"
      ],
      "metadata": {
        "id": "qPE43Ezz4T8h",
        "colab": {
          "base_uri": "https://localhost:8080/"
        },
        "outputId": "e0bc5b40-f848-4615-e99f-91e3bd9a1d6e"
      },
      "execution_count": null,
      "outputs": [
        {
          "output_type": "stream",
          "name": "stdout",
          "text": [
            "Total Number of Images: 3306\n"
          ]
        }
      ]
    },
    {
      "cell_type": "markdown",
      "source": [
        "## **Checking if the images can be opened or not**"
      ],
      "metadata": {
        "id": "fvw_eYQ7UBvW"
      }
    },
    {
      "cell_type": "code",
      "source": [
        "failed = verify_images(image_files)\n",
        "failed"
      ],
      "metadata": {
        "colab": {
          "base_uri": "https://localhost:8080/"
        },
        "id": "mmVq2LgNzyWr",
        "outputId": "5679d0da-de94-4d38-a8a5-4a39c3cdcadc"
      },
      "execution_count": null,
      "outputs": [
        {
          "output_type": "execute_result",
          "data": {
            "text/plain": [
              "(#29) [Path('Data/Catla/34e6b6a6-50cc-4d04-b2d9-83f1a906260d.jpg'),Path('Data/Catla/0c9cace0-1d9d-4155-ab11-def363746a09.jpg'),Path('Data/Catla/402c6ef6-9e58-4045-b11d-0b0ee1515540.png'),Path('Data/Chital/be230266-521a-4187-bcee-73bda1e70c56.jpg'),Path('Data/Chital/c1e988cb-a9f9-4c3e-a06f-dccb61c67650.jpg'),Path('Data/Chital/aeda2409-ce4a-4d32-844f-d039b0027d71.jpg'),Path('Data/Ilish/aca20ecf-7c36-4dbd-a19e-15f4f9aefb6e.jpg'),Path('Data/Koi/447e5cfe-a576-4821-865d-e8fb285c2291.jpg'),Path('Data/Koi/d3ffcec4-ecb2-4017-a369-d485d3fcc6d5.jpg'),Path('Data/Koi/bdf0175c-d872-4217-8258-5a61e250ec5a.jpg')...]"
            ]
          },
          "metadata": {},
          "execution_count": 10
        }
      ]
    },
    {
      "cell_type": "markdown",
      "source": [
        "## **Deletion of unavailable image paths**"
      ],
      "metadata": {
        "id": "0KTc5fKmULJM"
      }
    },
    {
      "cell_type": "code",
      "source": [
        "failed.map(Path.unlink)"
      ],
      "metadata": {
        "colab": {
          "base_uri": "https://localhost:8080/"
        },
        "id": "hFp6r_n8zyZb",
        "outputId": "3bdf47ec-78ff-4b0c-dc0a-903f4808d51b"
      },
      "execution_count": null,
      "outputs": [
        {
          "output_type": "execute_result",
          "data": {
            "text/plain": [
              "(#29) [None,None,None,None,None,None,None,None,None,None...]"
            ]
          },
          "metadata": {},
          "execution_count": 11
        }
      ]
    },
    {
      "cell_type": "markdown",
      "source": [
        "## **Categories in `Data` directory**"
      ],
      "metadata": {
        "id": "8Sz-QetTV3Ve"
      }
    },
    {
      "cell_type": "code",
      "source": [
        "labels = []\n",
        "for label in os.listdir(data_path):\n",
        "  labels.append(label)"
      ],
      "metadata": {
        "id": "-TL6ll4BVMVt"
      },
      "execution_count": null,
      "outputs": []
    },
    {
      "cell_type": "markdown",
      "source": [
        "## **Mapping category wise images numbers**"
      ],
      "metadata": {
        "id": "CTpng_IiWHBN"
      }
    },
    {
      "cell_type": "code",
      "source": [
        "data = {}\n",
        "for label in labels:\n",
        "  count = len([entry for entry in os.listdir(f\"{data_path}/{label}\") if os.path.isfile(os.path.join(f\"{data_path}/{label}\", entry))])\n",
        "  data[label] = count"
      ],
      "metadata": {
        "id": "s2bUbXwAVMRm"
      },
      "execution_count": null,
      "outputs": []
    },
    {
      "cell_type": "markdown",
      "source": [
        "## **Function to show images distribution**"
      ],
      "metadata": {
        "id": "Y-polpXsVmHP"
      }
    },
    {
      "cell_type": "code",
      "source": [
        "def plot_images_distribution(dictionary):\n",
        "  labels = dictionary.keys()\n",
        "  number_of_images = dictionary.values()\n",
        "\n",
        "  plt.bar(labels, number_of_images)\n",
        "  plt.xlabel(\"Labels\")\n",
        "  plt.xticks(rotation=90)\n",
        "  plt.ylabel(\"Number of images\")\n",
        "  plt.title(\"Image distribution\")\n",
        "  plt.show()"
      ],
      "metadata": {
        "id": "tzvmTEDZVMN1"
      },
      "execution_count": null,
      "outputs": []
    },
    {
      "cell_type": "markdown",
      "source": [
        "## **Viewing Image Distribution for each label**"
      ],
      "metadata": {
        "id": "28lNO-LfVMKl"
      }
    },
    {
      "cell_type": "code",
      "source": [
        "plot_images_distribution(data)"
      ],
      "metadata": {
        "id": "4q0jABMbVMHW",
        "colab": {
          "base_uri": "https://localhost:8080/",
          "height": 551
        },
        "outputId": "aa2c65e8-9a3b-48d7-b819-f98186995543"
      },
      "execution_count": null,
      "outputs": [
        {
          "output_type": "display_data",
          "data": {
            "text/plain": [
              "<Figure size 640x480 with 1 Axes>"
            ],
            "image/png": "[encoded data removed]"
          },
          "metadata": {}
        }
      ]
    }
  ]
}